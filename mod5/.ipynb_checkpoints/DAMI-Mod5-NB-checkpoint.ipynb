{
 "cells": [
  {
   "cell_type": "markdown",
   "metadata": {},
   "source": [
    "# Re-doing the Iris analysis - Using a Naive Bayes Classifier"
   ]
  },
  {
   "cell_type": "markdown",
   "metadata": {},
   "source": [
    "#Research question\n",
    "[_Phrase your research question here. (Remember: you want to classify.) You can reuse the question from your SVM classifier.)_]"
   ]
  },
  {
   "cell_type": "markdown",
   "metadata": {},
   "source": [
    "## Analysis\n",
    "[_write a brief introduction to your analysis below. Briefly describe your classifier_]"
   ]
  },
  {
   "cell_type": "markdown",
   "metadata": {},
   "source": [
    "Aim is to figure out if its better to assign a flower to its species with help of petal data or sepal data."
   ]
  },
  {
   "cell_type": "markdown",
   "metadata": {},
   "source": [
    "### 1. load the iris data set (see Introducing Scikit-Learn)\n",
    "[_describe briefly what your data set is about and where you get the data from_]"
   ]
  },
  {
   "cell_type": "code",
   "execution_count": 49,
   "metadata": {},
   "outputs": [],
   "source": [
    "%matplotlib inline\n",
    "import numpy as np\n",
    "import matplotlib.pyplot as plt\n",
    "from sklearn import svm, datasets\n",
    "\n",
    "iris = datasets.load_iris()\n",
    "\n",
    "def make_meshgrid(x, y, h=.02):\n",
    "    \"\"\"Create a mesh of points to plot in\n",
    "\n",
    "    Parameters\n",
    "    ----------\n",
    "    x: data to base x-axis meshgrid on\n",
    "    y: data to base y-axis meshgrid on\n",
    "    h: stepsize for meshgrid, optional\n",
    "\n",
    "    Returns\n",
    "    -------\n",
    "    xx, yy : ndarray\n",
    "    \"\"\"\n",
    "    x_min, x_max = x.min() - 1, x.max() + 1\n",
    "    y_min, y_max = y.min() - 1, y.max() + 1\n",
    "    xx, yy = np.meshgrid(np.arange(x_min, x_max, h),\n",
    "                         np.arange(y_min, y_max, h))\n",
    "    return xx, yy\n",
    "\n",
    "\n",
    "def plot_contours(ax, clf, xx, yy, **params):\n",
    "    \"\"\"Plot the decision boundaries for a classifier.\n",
    "\n",
    "    Parameters\n",
    "    ----------\n",
    "    ax: matplotlib axes object\n",
    "    clf: a classifier\n",
    "    xx: meshgrid ndarray\n",
    "    yy: meshgrid ndarray\n",
    "    params: dictionary of params to pass to contourf, optional\n",
    "    \"\"\"\n",
    "    Z = clf.predict(np.c_[xx.ravel(), yy.ravel()])\n",
    "    Z = Z.reshape(xx.shape)\n",
    "    out = ax.contourf(xx, yy, Z, **params)\n",
    "    return out"
   ]
  },
  {
   "cell_type": "markdown",
   "metadata": {},
   "source": [
    "### 2. create a feature matrix X and a target array y from the data set\n",
    "[_describe how you are going to prepare the data set and for what reason_]"
   ]
  },
  {
   "cell_type": "code",
   "execution_count": 50,
   "metadata": {
    "collapsed": true
   },
   "outputs": [],
   "source": [
    "#############################################\n",
    "#PETAL\n",
    "#############################################\n",
    "\n",
    "# Take the first two features. We could avoid this by using a two-dim dataset\n",
    "#Learning process with ALL data\n",
    "X = iris.data[:, 2:4] \n",
    "#print(X.shape)\n",
    "y = iris.target\n",
    "#print(y.shape)\n",
    "\n",
    "from sklearn.naive_bayes import GaussianNB\n",
    "models = GaussianNB()\n",
    "models.fit(X, y);\n",
    "\n",
    "#############################################\n",
    "#SEPAL\n",
    "#############################################\n",
    "\n",
    "# Take the first two features. We could avoid this by using a two-dim dataset\n",
    "#Learning process with ALL data\n",
    "X2 = iris.data[:, :2] \n",
    "#print(X.shape)\n",
    "y2 = iris.target\n",
    "#print(y.shape)\n",
    "\n",
    "from sklearn.naive_bayes import GaussianNB\n",
    "models = GaussianNB()\n",
    "models.fit(X2, y2);"
   ]
  },
  {
   "cell_type": "markdown",
   "metadata": {},
   "source": [
    "### 3. split the data in a test and train set\n",
    "[_describe how you are going to split the data set and for what reason_]"
   ]
  },
  {
   "cell_type": "code",
   "execution_count": null,
   "metadata": {
    "collapsed": true
   },
   "outputs": [],
   "source": [
    "To do: Slice the data of iris data set into two parts to get one for training and one for testing"
   ]
  },
  {
   "cell_type": "markdown",
   "metadata": {},
   "source": [
    "### 4. fit the model using the train set, applying the naive Bayes classifier\n",
    "[_describe how you are going to fit the model and what model parameters you are using_]"
   ]
  },
  {
   "cell_type": "code",
   "execution_count": 58,
   "metadata": {},
   "outputs": [
    {
     "data": {
      "text/plain": [
       "<matplotlib.text.Text at 0x15da520d400>"
      ]
     },
     "execution_count": 58,
     "metadata": {},
     "output_type": "execute_result"
    },
    {
     "data": {
      "image/png": "[encoded data removed]",
      "text/plain": [
       "<matplotlib.figure.Figure at 0x15da6550ac8>"
      ]
     },
     "metadata": {},
     "output_type": "display_data"
    }
   ],
   "source": [
    "#############################################\n",
    "#PETAL\n",
    "#############################################\n",
    "X0, X1 = X[:, 0], X[:, 1]\n",
    "xx, yy = make_meshgrid(X0, X1)\n",
    "plot_contours(plt, models, xx, yy,\n",
    "                 cmap=plt.cm.coolwarm, alpha=0.8)\n",
    "\n",
    "#plt.scatter(X[:, 0], X[:, 1], c=y, s=50, cmap='RdBu')\n",
    "plt.scatter(X0, X1, c=y, cmap=plt.cm.coolwarm, s=20, edgecolors='k')\n",
    "lim = plt.axis()\n",
    "plt.xlabel('Petal length')\n",
    "plt.ylabel('Petal width')\n",
    "\n",
    "#############################################\n",
    "#SEPAL\n",
    "#############################################\n",
    "#X0, X1 = X2[:, 0], X2[:, 1]\n",
    "#xx2, yy2 = make_meshgrid(X0, X1)\n",
    "#plot_contours(plt, models, xx2, yy2,\n",
    "                  #cmap=plt.cm.coolwarm, alpha=0.8)\n",
    "\n",
    "##plo.scatter(X2[:, 0], X2[:, 1], c=y2, s=50, cmap='RdBu')\n",
    "#plt.scatter(X0, X1, c=y2, cmap=plt.cm.coolwarm, s=20, edgecolors='k')\n",
    "#lim = plt.axis()\n",
    "#plt.xlabel('Sepal length')\n",
    "#plt.ylabel('Sepal width');"
   ]
  },
  {
   "cell_type": "markdown",
   "metadata": {},
   "source": [
    "### 5. evaluate the model by predicting the test set\n",
    "[_describe how you are going to evaluate the results of your classifier and what it means_]"
   ]
  },
  {
   "cell_type": "markdown",
   "metadata": {},
   "source": [
    "## Discussion of result\n",
    "[_ reflect on the accuracy of your result and whether you have properly answered your research question _]"
   ]
  },
  {
   "cell_type": "markdown",
   "metadata": {},
   "source": [
    "## Comparison of classifiers\n",
    "[_reflect on the preferred choice of classifier now that you've used SVM, DT and NB classifiers in terms of __bias__ and __variance__ of the applied classifiers_]"
   ]
  }
 ],
 "metadata": {
  "kernelspec": {
   "display_name": "Python 3",
   "language": "python",
   "name": "python3"
  },
  "language_info": {
   "codemirror_mode": {
    "name": "ipython",
    "version": 3
   },
   "file_extension": ".py",
   "mimetype": "text/x-python",
   "name": "python",
   "nbconvert_exporter": "python",
   "pygments_lexer": "ipython3",
   "version": "3.6.1"
  }
 },
 "nbformat": 4,
 "nbformat_minor": 2
}
