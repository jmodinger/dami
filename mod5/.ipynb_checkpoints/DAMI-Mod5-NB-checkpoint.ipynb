{
 "cells": [
  {
   "cell_type": "markdown",
   "metadata": {},
   "source": [
    "# Re-doing the Iris analysis - Using a Naive Bayes Classifier"
   ]
  },
  {
   "cell_type": "markdown",
   "metadata": {},
   "source": [
    "#Research question\n",
    "[_Phrase your research question here. (Remember: you want to classify.) You can reuse the question from your SVM classifier.)_]"
   ]
  },
  {
   "cell_type": "markdown",
   "metadata": {},
   "source": [
    "Is it possible to predict the species with only having information about the petal? Or might the information about sepals be more significant to predict the sepcies of iris?\n"
   ]
  },
  {
   "cell_type": "markdown",
   "metadata": {},
   "source": [
    "## Analysis\n",
    "[_write a brief introduction to your analysis below. Briefly describe your classifier_]"
   ]
  },
  {
   "cell_type": "markdown",
   "metadata": {},
   "source": [
    "Aim is to figure out if information about petal or sepal are more significant to dassign a flower to its iris species.\n"
   ]
  },
  {
   "cell_type": "markdown",
   "metadata": {},
   "source": [
    "### 1. load the iris data set (see Introducing Scikit-Learn)\n",
    "[_describe briefly what your data set is about and where you get the data from_]"
   ]
  },
  {
   "cell_type": "code",
   "execution_count": 1,
   "metadata": {
    "collapsed": true
   },
   "outputs": [],
   "source": [
    "%matplotlib inline\n",
    "import numpy as np\n",
    "import matplotlib.pyplot as plt\n",
    "from sklearn import svm, datasets\n",
    "\n",
    "iris = datasets.load_iris()"
   ]
  },
  {
   "cell_type": "markdown",
   "metadata": {},
   "source": [
    "### 2. create a feature matrix X and a target array y from the data set\n",
    "[_describe how you are going to prepare the data set and for what reason_]"
   ]
  },
  {
   "cell_type": "code",
   "execution_count": 2,
   "metadata": {
    "collapsed": true
   },
   "outputs": [],
   "source": [
    "###########################################\n",
    "#------------------PETAL------------------#\n",
    "###########################################\n",
    "\n",
    "Xpetal = iris.data[:, 2:4] # [All Rows, Includes Column 2: Excludes Column 4] Just Petal is selected\n",
    "ypetal = iris.target #=species\n",
    "#y is not affected by slicing X because the result belongs to a row, number of rows is not decreased\n",
    "\n",
    "###########################################\n",
    "#------------------SEPAL------------------#\n",
    "###########################################\n",
    "\n",
    "Xsepal = iris.data[:,:2] # [All Rows, rom column 0: Excludes column 2] Just Sepal is selected\n",
    "ysepal = iris.target #=species\n",
    "#y is not affected by slicing X because the result belongs to a row, number of rows is not decreased"
   ]
  },
  {
   "cell_type": "markdown",
   "metadata": {},
   "source": [
    "### 3. split the data in a test and train set\n",
    "[_describe how you are going to split the data set and for what reason_]"
   ]
  },
  {
   "cell_type": "code",
   "execution_count": 3,
   "metadata": {},
   "outputs": [
    {
     "name": "stderr",
     "output_type": "stream",
     "text": [
      "C:\\Users\\Julia\\Miniconda3\\lib\\site-packages\\sklearn\\cross_validation.py:41: DeprecationWarning: This module was deprecated in version 0.18 in favor of the model_selection module into which all the refactored classes and functions are moved. Also note that the interface of the new CV iterators are different from that of this module. This module will be removed in 0.20.\n",
      "  \"This module will be removed in 0.20.\", DeprecationWarning)\n"
     ]
    }
   ],
   "source": [
    "from sklearn.cross_validation import train_test_split\n",
    "\n",
    "#A Test Set size of 0.1 leads to the highest accuracy of petal data(0.53)\n",
    "#A Test Set size of 0.3 leads to the highest accuracy of sepal data(0.77)\n",
    "#Everything below this test sizes leads to bias (underfitting), everything above this test sizes leads to variance(overfitting).\n",
    "###########################################\n",
    "#------------------PETAL------------------#\n",
    "###########################################\n",
    "#\n",
    "Xpetal_learn, Xpetal_test, ypetal_learn, ypetal_test = train_test_split(Xpetal, ypetal, test_size=0.05, random_state = 0); #Size of trainingset = 85% of whole dataset\n",
    "\n",
    "###########################################\n",
    "#------------------SEPAL------------------#\n",
    "###########################################\n",
    "\n",
    "Xsepal_learn, Xsepal_test, ysepal_learn, ysepal_test = train_test_split(Xsepal, ysepal, test_size=0.05, random_state = 0); #Size of trainingset = 85% of whole dataset"
   ]
  },
  {
   "cell_type": "markdown",
   "metadata": {},
   "source": [
    "### 4. fit the model using the train set, applying the naive Bayes classifier\n",
    "[_describe how you are going to fit the model and what model parameters you are using_]"
   ]
  },
  {
   "cell_type": "code",
   "execution_count": 4,
   "metadata": {
    "collapsed": true
   },
   "outputs": [],
   "source": [
    "from sklearn.naive_bayes import GaussianNB\n",
    "models = GaussianNB()\n",
    "\n",
    "###########################################\n",
    "#------------------PETAL------------------#\n",
    "###########################################\n",
    "\n",
    "models.fit(Xpetal, ypetal);\n",
    "\n",
    "###########################################\n",
    "#------------------SEPAL------------------#\n",
    "###########################################\n",
    "\n",
    "models.fit(Xsepal, ysepal);"
   ]
  },
  {
   "cell_type": "markdown",
   "metadata": {},
   "source": [
    "### 5. evaluate the model by predicting the test set\n",
    "[_describe how you are going to evaluate the results of your classifier and what it means_]"
   ]
  },
  {
   "cell_type": "code",
   "execution_count": 5,
   "metadata": {},
   "outputs": [
    {
     "name": "stdout",
     "output_type": "stream",
     "text": [
      "[1 1 2 1 2 1 2 1]\n",
      "[2 1 0 2 0 2 0 1]\n",
      "Accuracy of prediction with petal is:  0.25\n"
     ]
    },
    {
     "data": {
      "image/png": "[encoded data removed]",
      "text/plain": [
       "<matplotlib.figure.Figure at 0x212157c8400>"
      ]
     },
     "metadata": {},
     "output_type": "display_data"
    },
    {
     "name": "stdout",
     "output_type": "stream",
     "text": [
      "[1 1 0 2 0 2 0 2]\n",
      "[2 1 0 2 0 2 0 1]\n",
      "Accuracy of prediction with petal is:  0.75\n"
     ]
    },
    {
     "data": {
      "image/png": "[encoded data removed]",
      "text/plain": [
       "<matplotlib.figure.Figure at 0x21215921b38>"
      ]
     },
     "metadata": {},
     "output_type": "display_data"
    }
   ],
   "source": [
    "from sklearn.metrics import accuracy_score\n",
    "\n",
    "###########################################\n",
    "#------------------PETAL------------------#\n",
    "###########################################\n",
    "\n",
    "resultPetal = models.predict(Xpetal_test)\n",
    "print(resultPetal)\n",
    "print(ypetal_test)\n",
    "\n",
    "\n",
    "print(\"Accuracy of prediction with petal is: \", accuracy_score(ypetal_test, resultPetal))\n",
    "\n",
    "target_names = iris.target_names\n",
    "plt.figure()\n",
    "plt.title(\"Gaussian NB with petal data\")\n",
    "colors = ['navy', 'turquoise', 'darkorange']\n",
    "lw = 2\n",
    "for color, i, target_name in zip(colors, [0, 1, 2], target_names):\n",
    "    plt.scatter(Xpetal[ypetal == i, 0], Xpetal[ypetal == i, 1], color=color, alpha=.8, lw=lw,\n",
    "                label=target_name)\n",
    "plt.legend(loc='best', shadow=False, scatterpoints=1)\n",
    "\n",
    "plt.show();\n",
    "\n",
    "###########################################\n",
    "#------------------SEPAL------------------#\n",
    "###########################################\n",
    "\n",
    "resultSepal = models.predict(Xsepal_test)\n",
    "print(resultSepal)\n",
    "print(ysepal_test)\n",
    "\n",
    "\n",
    "print(\"Accuracy of prediction with petal is: \", accuracy_score(ysepal_test, resultSepal))\n",
    "\n",
    "target_names = iris.target_names\n",
    "plt.figure()\n",
    "plt.title(\"Gaussian NB with sepal data\")\n",
    "colors = ['navy', 'turquoise', 'darkorange']\n",
    "lw = 2\n",
    "for color, i, target_name in zip(colors, [0, 1, 2], target_names):\n",
    "    plt.scatter(Xsepal[ysepal == i, 0], Xsepal[ysepal == i, 1], color=color, alpha=.8, lw=lw,\n",
    "                label=target_name)\n",
    "plt.legend(loc='best', shadow=False, scatterpoints=1)\n",
    "\n",
    "plt.show();"
   ]
  },
  {
   "cell_type": "markdown",
   "metadata": {},
   "source": [
    "## Discussion of result\n",
    "[_ reflect on the accuracy of your result and whether you have properly answered your research question _]"
   ]
  },
  {
   "cell_type": "markdown",
   "metadata": {},
   "source": [
    "With 10% test data the petal data reaches its highest accuracy of 53% correct answers.\n",
    "With 30% test data the sepal data reaches its highest accuracy of 77% correct answers.\n",
    "With 53% of correct answers as highest accuracy the petal data are not significant enough to predict the species\n",
    "This leads to the assumption that the sepal data are the better choice to predict the species of iris. \n",
    "\n",
    "Quite interesting is the fact, that the data in the graphics do not lead to the same assumption as the accuracy does.\n",
    "With just evaluating the graphics, it should be easier to separate the three species with petal data, and therefore also the prediciton should be more accurate with petal data."
   ]
  },
  {
   "cell_type": "markdown",
   "metadata": {},
   "source": [
    "## Comparison of classifiers\n",
    "[_reflect on the preferred choice of classifier now that you've used SVM, DT and NB classifiers in terms of __bias__ and __variance__ of the applied classifiers_]"
   ]
  },
  {
   "cell_type": "markdown",
   "metadata": {},
   "source": [
    "SVM: The best way to predict the species (80% accuracy) is with help of sepal data and 70% Train Set.\n",
    "NB: The best way to predict the species (77% accuracy) is with help of sepal data and 70% Train Set.\n",
    "Bias and variance are already taken into account in fining the highes accuracy in each model.\n",
    "As you can see the SVM is more accurate than NB with the same amount of training data. This leads to the assumption that SVM is the better choice for the Iris Dataset."
   ]
  }
 ],
 "metadata": {
  "kernelspec": {
   "display_name": "Python 3",
   "language": "python",
   "name": "python3"
  },
  "language_info": {
   "codemirror_mode": {
    "name": "ipython",
    "version": 3
   },
   "file_extension": ".py",
   "mimetype": "text/x-python",
   "name": "python",
   "nbconvert_exporter": "python",
   "pygments_lexer": "ipython3",
   "version": "3.6.1"
  }
 },
 "nbformat": 4,
 "nbformat_minor": 2
}
