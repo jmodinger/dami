{
 "cells": [
  {
   "cell_type": "markdown",
   "metadata": {},
   "source": [
    "# Re-doing the Iris analysis"
   ]
  },
  {
   "cell_type": "markdown",
   "metadata": {},
   "source": [
    "## Introduction\n",
    "\n",
    "In this notebook I will re-do the Iris data analysis using a support vector machine as classifier. I will collect pieces and snippets from our [textbook](http://bit.ly/2xoFamE) and combine them in my own classification of the Iris data set using a support vector machine.\n",
    "\n",
    "I will setup the analysis using the generic Scikit-Learn steps as explained in the book. I will explain each step in a markdown cell, using my own words."
   ]
  },
  {
   "cell_type": "markdown",
   "metadata": {},
   "source": [
    "## Research question\n",
    "[_Phrase your research question here. (Remember: you want to classify._)"
   ]
  },
  {
   "cell_type": "markdown",
   "metadata": {},
   "source": [
    "Is it possible to predict the species with only having information about the petal?\n",
    "Or might the information about sepals be more significant to predict the sepcies of iris?"
   ]
  },
  {
   "cell_type": "markdown",
   "metadata": {},
   "source": [
    "## Analysis\n",
    "[_write a brief introduction to your analysis below. Briefly describe your classifier_]"
   ]
  },
  {
   "cell_type": "markdown",
   "metadata": {},
   "source": [
    "Aim is to figure out if information about petal or sepal are more significant to dassign a flower to its iris species."
   ]
  },
  {
   "cell_type": "markdown",
   "metadata": {},
   "source": [
    "### 1. load the iris data set (see Introducing Scikit-Learn)\n",
    "[_describe briefly what your data set is about and where you get the data from_]"
   ]
  },
  {
   "cell_type": "code",
   "execution_count": 36,
   "metadata": {
    "collapsed": true
   },
   "outputs": [],
   "source": [
    "%matplotlib inline\n",
    "import numpy as np\n",
    "import matplotlib.pyplot as plt\n",
    "from sklearn import svm, datasets\n",
    "\n",
    "iris = datasets.load_iris();"
   ]
  },
  {
   "cell_type": "markdown",
   "metadata": {},
   "source": [
    "### 2. create a feature matrix X and a target array y from the data set\n",
    "[_describe how you are going to prepare the data set and for what reason_]"
   ]
  },
  {
   "cell_type": "code",
   "execution_count": 37,
   "metadata": {
    "collapsed": true
   },
   "outputs": [],
   "source": [
    "###########################################\n",
    "#------------------PETAL------------------#\n",
    "###########################################\n",
    "\n",
    "Xpetal = iris.data[:, 2:4] # [All Rows, Includes column 2: Excludes column 4] Just Petal is selected\n",
    "ypetal = iris.target #=species\n",
    "#y is not affected by slicing X because the result belongs to a row, number of rows is not decreased\n",
    "\n",
    "###########################################\n",
    "#------------------SEPAL------------------#\n",
    "###########################################\n",
    "\n",
    "Xsepal = iris.data[:,:2] # [All Rows, From column 0: Excludes column 2] Just Sepal is selected\n",
    "ysepal = iris.target #=species\n",
    "#y is not affected by slicing X because the result belongs to a row, number of rows is not decreased"
   ]
  },
  {
   "cell_type": "markdown",
   "metadata": {},
   "source": [
    "### 3. split the data in a test and train set\n",
    "[_describe how you are going to split the data set and for what reason_]"
   ]
  },
  {
   "cell_type": "code",
   "execution_count": 38,
   "metadata": {},
   "outputs": [],
   "source": [
    "from sklearn.cross_validation import train_test_split\n",
    "\n",
    "#A Train Set size of at least 0.8 leads to the highest accuracy of petal data(1.0)\n",
    "#Even with a Train Set size of 0.5 the accuracy of petal data is still high (0.96)\n",
    "#A Train Set size of 0.7 leads to the highest accuracy of sepal data(0.8)\n",
    "#Everything below the train size of sepal data leads to bias (underfitting), everything above leads to variance(overfitting).\n",
    "\n",
    "\n",
    "###########################################\n",
    "#------------------PETAL------------------#\n",
    "###########################################\n",
    "\n",
    "Xpetal_learn, Xpetal_test, ypetal_learn, ypetal_test = train_test_split(Xpetal, ypetal, train_size=0.75, random_state = 0) #Size of trainingset = 85% of whole dataset\n",
    "\n",
    "###########################################\n",
    "#------------------SEPAL------------------#\n",
    "###########################################\n",
    "\n",
    "Xsepal_learn, Xsepal_test, ysepal_learn, ysepal_test = train_test_split(Xsepal, ysepal, train_size=0.75, random_state = 0) #Size of trainingset = 85% of whole dataset"
   ]
  },
  {
   "cell_type": "markdown",
   "metadata": {},
   "source": [
    "### 4. fit the model using the train set, applying the support vector machine\n",
    "[_describe how you are going to fit the model and what model parameters you are using_]"
   ]
  },
  {
   "cell_type": "code",
   "execution_count": 39,
   "metadata": {
    "collapsed": true
   },
   "outputs": [],
   "source": [
    "###########################################\n",
    "#------------------PETAL------------------#\n",
    "###########################################\n",
    "\n",
    "modelp = svm.SVC()\n",
    "modelp.fit(Xpetal_learn, ypetal_learn);\n",
    "\n",
    "###########################################\n",
    "#------------------SEPAL------------------#\n",
    "###########################################\n",
    "models = svm.SVC()\n",
    "models.fit(Xsepal_learn, ysepal_learn);"
   ]
  },
  {
   "cell_type": "markdown",
   "metadata": {},
   "source": [
    "### 5. evaluate the model by predicting the test set\n",
    "[_describe how you are going to evaluate the results of your classifier and what it means_]"
   ]
  },
  {
   "cell_type": "code",
   "execution_count": 40,
   "metadata": {},
   "outputs": [
    {
     "name": "stdout",
     "output_type": "stream",
     "text": [
      "[2 1 0 2 0 2 0 1 1 1 2 1 1 1 1 0 1 1 0 0 2 1 0 0 2 0 0 1 1 0 2 1 0 2 2 1 0\n",
      " 2]\n",
      "[2 1 0 2 0 2 0 1 1 1 2 1 1 1 1 0 1 1 0 0 2 1 0 0 2 0 0 1 1 0 2 1 0 2 2 1 0\n",
      " 1]\n",
      "Accuracy of prediction with petal is:  0.973684210526\n"
     ]
    },
    {
     "data": {
      "image/png": "[encoded data removed]",
      "text/plain": [
       "<matplotlib.figure.Figure at 0x2cf149afcf8>"
      ]
     },
     "metadata": {},
     "output_type": "display_data"
    },
    {
     "name": "stdout",
     "output_type": "stream",
     "text": [
      "[1 1 0 2 0 2 0 2 2 1 1 2 1 2 1 0 1 1 0 0 1 1 0 0 2 0 0 2 1 0 2 1 0 1 2 1 0\n",
      " 1]\n",
      "[2 1 0 2 0 2 0 1 1 1 2 1 1 1 1 0 1 1 0 0 2 1 0 0 2 0 0 1 1 0 2 1 0 2 2 1 0\n",
      " 1]\n",
      "Accuracy of prediction with sepal is:  0.763157894737\n"
     ]
    },
    {
     "data": {
      "image/png": "[encoded data removed]",
      "text/plain": [
       "<matplotlib.figure.Figure at 0x2cf14d34860>"
      ]
     },
     "metadata": {},
     "output_type": "display_data"
    }
   ],
   "source": [
    "from sklearn.metrics import accuracy_score\n",
    "\n",
    "###########################################\n",
    "#------------------PETAL------------------#\n",
    "###########################################\n",
    "\n",
    "resultPetal = modelp.predict(Xpetal_test)\n",
    "print(resultPetal)\n",
    "print(ypetal_test)\n",
    "\n",
    "\n",
    "print(\"Accuracy of prediction with petal is: \", accuracy_score(ypetal_test, resultPetal))\n",
    "\n",
    "target_names = iris.target_names\n",
    "plt.figure()\n",
    "plt.title(\"SVM with petal data\")\n",
    "colors = ['navy', 'turquoise', 'darkorange']\n",
    "lw = 2\n",
    "for color, i, target_name in zip(colors, [0, 1, 2], target_names):\n",
    "    plt.scatter(Xpetal[ypetal == i, 0], Xpetal[ypetal == i, 1], color=color, alpha=.8, lw=lw,\n",
    "                label=target_name)\n",
    "plt.legend(loc='best', shadow=False, scatterpoints=1)\n",
    "\n",
    "plt.show()\n",
    "\n",
    "###########################################\n",
    "#------------------SEPAL------------------#\n",
    "###########################################\n",
    "\n",
    "resultSepal = models.predict(Xsepal_test)\n",
    "print(resultSepal)\n",
    "print(ysepal_test)\n",
    "\n",
    "\n",
    "print(\"Accuracy of prediction with sepal is: \", accuracy_score(ysepal_test, resultSepal))\n",
    "\n",
    "target_names = iris.target_names\n",
    "plt.figure()\n",
    "plt.title(\"SVM with sepal data\")\n",
    "colors = ['navy', 'turquoise', 'darkorange']\n",
    "lw = 2\n",
    "for color, i, target_name in zip(colors, [0, 1, 2], target_names):\n",
    "    plt.scatter(Xsepal[ysepal == i, 0], Xsepal[ysepal == i, 1], color=color, alpha=.8, lw=lw,\n",
    "                label=target_name)\n",
    "plt.legend(loc='best', shadow=False, scatterpoints=1)\n",
    "\n",
    "plt.show()"
   ]
  },
  {
   "cell_type": "markdown",
   "metadata": {},
   "source": [
    "## Discussion of result\n",
    "[_ reflect on the accuracy of your result and whether you have properly answered your research question _]"
   ]
  },
  {
   "cell_type": "markdown",
   "metadata": {},
   "source": [
    "With 80% or more train data the petal data reaches its highest accuracy of 100% correct answers.\n",
    "Even with 50% test data the petal data has an accuracy of 96%.\n",
    "With 70% train data the sepal data reaches its highest accuracy of 80% correct answers.\n",
    "With 1000% of correct answers as highest accuracy the petal data are significant enough to predict the species.\n",
    "This leads to the assumption that the petal data are the better choice to predict the species of iris. \n",
    "\n",
    "This assumption can also be made from analysing the graphics. \n",
    "Here you see it is easy to separate the tree species with petal data, but versicolor and virginica have often the same sizes of sepals."
   ]
  }
 ],
 "metadata": {
  "kernelspec": {
   "display_name": "Python 3",
   "language": "python",
   "name": "python3"
  },
  "language_info": {
   "codemirror_mode": {
    "name": "ipython",
    "version": 3
   },
   "file_extension": ".py",
   "mimetype": "text/x-python",
   "name": "python",
   "nbconvert_exporter": "python",
   "pygments_lexer": "ipython3",
   "version": "3.6.1"
  }
 },
 "nbformat": 4,
 "nbformat_minor": 2
}
