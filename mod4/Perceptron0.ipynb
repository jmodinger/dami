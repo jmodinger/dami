{
 "cells": [
  {
   "cell_type": "markdown",
   "metadata": {},
   "source": [
    "# Perceptron0"
   ]
  },
  {
   "cell_type": "markdown",
   "metadata": {},
   "source": [
    "## Neural Networks\n",
    "\n",
    "Neural Networks are a machine learning framework that attempts to mimic the learning pattern of natural biological neural networks: you can think of them as a crude approximation of what we assume the human mind is doing when it is learning. Biological neural networks have interconnected neurons with dendrites that receive inputs, then based on these inputs they produce an output signal through an axon to another neuron. We will try to mimic this process through the use of Artificial Neural Networks (ANN), which we will just refer to as neural networks from now on. Neural networks are the foundation of deep learning, a subset of machine learning that is responsible for some of the most exciting technological advances today! The process of creating a neural network in Python begins with the most basic form, a single perceptron. Let’s start by explaining the single perceptron!\n",
    "\n",
    "## The Perceptron\n",
    "\n",
    "Let’s start our discussion by talking about the Perceptron! A perceptron has one or more inputs, a bias, an activation function, and a single output. The perceptron receives inputs, multiplies them by some weight, and then passes them into an activation function to produce an output. There are many possible activation functions to choose from, such as the logistic function, a trigonometric function, a step function etc. We must also make sure to add a bias to the perceptron, a constant weight outside of the inputs that allows us to achieve better fit for our predictive models. Check out the diagram below for a visualization of a perceptron:"
   ]
  },
  {
   "cell_type": "markdown",
   "metadata": {},
   "source": [
    "![Perceptron](Perceptron-small.png)"
   ]
  },
  {
   "cell_type": "markdown",
   "metadata": {},
   "source": [
    "Perceptron formula: $Out = AF(\\sum (x * w) + Bias)$, where vector $x = (x1,x2,...,xn)$ and vector $w = (w1,w2,...,wn)$\n",
    "    \n",
    "    \n",
    "\n",
    "A perceptron is a building block that can be used to do simple binary classifications: only 2 classes. The preceptron \n",
    "is used in 2 modi: train or inference. In train mode the perceptron is given input data as well as the desired outcome.\n",
    "It will first predict the outcome $Out$ abd then compare its prediction with the desired outcome. It will then \n",
    "correct the weights $w$ a bit. Then the next input is presented to the perceptron together with its desired outcome\n",
    "and again the perceptron will adapt the weights. After all inputs are done then the perceptron will still not be \n",
    "able to do a fault free prediction. It will take up to 100 epochs (cycles) before the perceptron will predict the \n",
    "outcome $Out$ in an acceptable way. \n",
    "\n",
    "We start with setting up the necessary libraries. Subsequently we will:\n",
    "1. set up the input data together with its category labels\n",
    "2. plot the input data set and colour the set according to its label (0$\\rightarrow$red or 1$\\rightarrow$blue)\n",
    "3. train the perceptron after tidying the structure of the data\n",
    "4. plot the separation line between the 2 classes."
   ]
  },
  {
   "cell_type": "code",
   "execution_count": 3,
   "metadata": {
    "collapsed": true
   },
   "outputs": [],
   "source": [
    "import numpy as np\n",
    "import matplotlib.pyplot as plt\n",
    "#import sklearn.linear_model.perceptron as p\n",
    "from sklearn.linear_model import perceptron\n",
    " \n",
    "# Needed to show the plots inline\n",
    "%matplotlib inline\n",
    "\n",
    "from sklearn.neural_network import MLPClassifier\n",
    "import matplotlib.pyplot as plt\n",
    "%matplotlib inline"
   ]
  },
  {
   "cell_type": "markdown",
   "metadata": {},
   "source": [
    "Get the data:"
   ]
  },
  {
   "cell_type": "code",
   "execution_count": 4,
   "metadata": {
    "collapsed": true
   },
   "outputs": [],
   "source": [
    "# Data\n",
    "d = np.array([\n",
    "[2, 1, 2, 5, 7, 2, 4, 6, 1, 2, 5, 4, 6, 5, 2],\n",
    "[2, 3, 3, 3, 3, 4, 4, 4, 5, 5, 5, 6, 6, 7, 6]\n",
    "])\n",
    " \n",
    "# Labels\n",
    "t = np.array([0, 0, 0, 1, 1, 0, 0, 1, 0, 0, 1, 1, 1, 1, 1])"
   ]
  },
  {
   "cell_type": "markdown",
   "metadata": {},
   "source": [
    "Plot points"
   ]
  },
  {
   "cell_type": "code",
   "execution_count": 5,
   "metadata": {},
   "outputs": [
    {
     "data": {
      "text/plain": [
       "<matplotlib.collections.PathCollection at 0x1c4b0444710>"
      ]
     },
     "execution_count": 5,
     "metadata": {},
     "output_type": "execute_result"
    },
    {
     "data": {
      "image/png": "[encoded data removed]",
      "text/plain": [
       "<matplotlib.figure.Figure at 0x1c4ad5b9d68>"
      ]
     },
     "metadata": {},
     "output_type": "display_data"
    }
   ],
   "source": [
    "colormap = np.array(['r', 'b'])\n",
    "plt.scatter(d[0], d[1], c=colormap[t], s=40)"
   ]
  },
  {
   "cell_type": "code",
   "execution_count": 6,
   "metadata": {},
   "outputs": [
    {
     "name": "stdout",
     "output_type": "stream",
     "text": [
      "[[2 2]\n",
      " [3 1]\n",
      " [3 2]\n",
      " [3 5]\n",
      " [3 7]\n",
      " [4 2]\n",
      " [4 4]\n",
      " [4 6]\n",
      " [5 1]\n",
      " [5 2]\n",
      " [5 5]\n",
      " [6 4]\n",
      " [6 6]\n",
      " [7 5]\n",
      " [6 2]]\n",
      "Iteration 1, loss = 0.69735722\n",
      "Iteration 2, loss = 0.67249817\n",
      "Iteration 3, loss = 0.66025725\n",
      "Iteration 4, loss = 0.65368535\n",
      "Iteration 5, loss = 0.64394472\n",
      "Iteration 6, loss = 0.62627142\n",
      "Iteration 7, loss = 0.60676972\n",
      "Iteration 8, loss = 0.59362572\n",
      "Iteration 9, loss = 0.57770510\n",
      "Iteration 10, loss = 0.56706335\n",
      "Iteration 11, loss = 0.56438788\n",
      "Iteration 12, loss = 0.56120938\n",
      "Iteration 13, loss = 0.55445462\n",
      "Iteration 14, loss = 0.54496085\n",
      "Iteration 15, loss = 0.53322621\n",
      "Iteration 16, loss = 0.51865244\n",
      "Iteration 17, loss = 0.50368759\n",
      "Iteration 18, loss = 0.48946551\n",
      "Iteration 19, loss = 0.47700461\n",
      "Iteration 20, loss = 0.46537206\n",
      "Iteration 21, loss = 0.45180605\n",
      "Iteration 22, loss = 0.43781741\n",
      "Iteration 23, loss = 0.42147831\n",
      "Iteration 24, loss = 0.40559773\n",
      "Iteration 25, loss = 0.38990827\n",
      "Iteration 26, loss = 0.37604260\n",
      "Iteration 27, loss = 0.36429346\n",
      "Iteration 28, loss = 0.35276586\n",
      "Iteration 29, loss = 0.34168886\n",
      "Iteration 30, loss = 0.33070078\n",
      "Iteration 31, loss = 0.31970563\n",
      "Iteration 32, loss = 0.30975132\n",
      "Iteration 33, loss = 0.30062157\n",
      "Iteration 34, loss = 0.29249202\n",
      "Iteration 35, loss = 0.28461088\n",
      "Iteration 36, loss = 0.27575296\n",
      "Iteration 37, loss = 0.26596468\n",
      "Iteration 38, loss = 0.25618172\n",
      "Iteration 39, loss = 0.24646051\n",
      "Iteration 40, loss = 0.23634783\n",
      "Iteration 41, loss = 0.22611786\n",
      "Iteration 42, loss = 0.21733912\n",
      "Iteration 43, loss = 0.21048106\n",
      "Iteration 44, loss = 0.20386068\n",
      "Iteration 45, loss = 0.19644010\n",
      "Iteration 46, loss = 0.18956397\n",
      "Iteration 47, loss = 0.18422322\n",
      "Iteration 48, loss = 0.17957305\n",
      "Iteration 49, loss = 0.17447340\n",
      "Iteration 50, loss = 0.16970080\n",
      "Iteration 51, loss = 0.16608001\n",
      "Iteration 52, loss = 0.16281780\n",
      "Iteration 53, loss = 0.15906600\n",
      "Iteration 54, loss = 0.15551617\n",
      "Iteration 55, loss = 0.15291199\n",
      "Iteration 56, loss = 0.15073380\n",
      "Iteration 57, loss = 0.14889836\n",
      "Iteration 58, loss = 0.14802216\n",
      "Iteration 59, loss = 0.14587490\n",
      "Iteration 60, loss = 0.13921118\n",
      "Iteration 61, loss = 0.13711472\n",
      "Iteration 62, loss = 0.13678888\n",
      "Iteration 63, loss = 0.13091816\n",
      "Iteration 64, loss = 0.12846544\n",
      "Iteration 65, loss = 0.12729120\n",
      "Iteration 66, loss = 0.12179668\n",
      "Iteration 67, loss = 0.11985250\n",
      "Iteration 68, loss = 0.11772857\n",
      "Iteration 69, loss = 0.11271954\n",
      "Iteration 70, loss = 0.11124528\n",
      "Iteration 71, loss = 0.10800952\n",
      "Iteration 72, loss = 0.10416981\n",
      "Iteration 73, loss = 0.10260036\n",
      "Iteration 74, loss = 0.09862899\n",
      "Iteration 75, loss = 0.09620448\n",
      "Iteration 76, loss = 0.09380051\n",
      "Iteration 77, loss = 0.09034163\n",
      "Iteration 78, loss = 0.08851276\n",
      "Iteration 79, loss = 0.08539869\n",
      "Iteration 80, loss = 0.08321875\n",
      "Iteration 81, loss = 0.08087389\n",
      "Iteration 82, loss = 0.07826469\n",
      "Iteration 83, loss = 0.07642803\n",
      "Iteration 84, loss = 0.07387199\n",
      "Iteration 85, loss = 0.07212705\n",
      "Iteration 86, loss = 0.06987854\n",
      "Iteration 87, loss = 0.06805068\n",
      "Iteration 88, loss = 0.06617495\n",
      "Iteration 89, loss = 0.06431359\n",
      "Iteration 90, loss = 0.06271663\n",
      "Iteration 91, loss = 0.06089891\n",
      "Iteration 92, loss = 0.05946043\n",
      "Iteration 93, loss = 0.05777671\n",
      "Iteration 94, loss = 0.05643211\n",
      "Iteration 95, loss = 0.05491119\n",
      "Iteration 96, loss = 0.05362212\n",
      "Iteration 97, loss = 0.05225642\n",
      "Iteration 98, loss = 0.05102347\n",
      "Iteration 99, loss = 0.04979591\n",
      "Iteration 100, loss = 0.04862552\n",
      "Iteration 101, loss = 0.04751167\n",
      "Iteration 102, loss = 0.04640563\n",
      "Iteration 103, loss = 0.04538205\n",
      "Iteration 104, loss = 0.04434614\n",
      "Iteration 105, loss = 0.04340035\n",
      "Iteration 106, loss = 0.04243461\n",
      "Iteration 107, loss = 0.04155315\n",
      "Iteration 108, loss = 0.04065241\n",
      "Iteration 109, loss = 0.03982796\n",
      "Iteration 110, loss = 0.03898884\n",
      "Iteration 111, loss = 0.03821616\n",
      "Iteration 112, loss = 0.03743378\n",
      "Iteration 113, loss = 0.03670805\n",
      "Iteration 114, loss = 0.03597683\n",
      "Iteration 115, loss = 0.03529379\n",
      "Iteration 116, loss = 0.03460963\n",
      "Iteration 117, loss = 0.03396653\n",
      "Iteration 118, loss = 0.03332578\n",
      "Iteration 119, loss = 0.03271934\n",
      "Iteration 120, loss = 0.03211806\n",
      "Iteration 121, loss = 0.03154524\n",
      "Iteration 122, loss = 0.03098025\n",
      "Iteration 123, loss = 0.03043853\n",
      "Iteration 124, loss = 0.02990717\n",
      "Iteration 125, loss = 0.02939447\n",
      "Iteration 126, loss = 0.02889405\n",
      "Iteration 127, loss = 0.02840814\n",
      "Iteration 128, loss = 0.02793604\n",
      "Iteration 129, loss = 0.02747528\n",
      "Iteration 130, loss = 0.02702917\n",
      "Iteration 131, loss = 0.02659214\n",
      "Iteration 132, loss = 0.02616979\n",
      "Iteration 133, loss = 0.02575524\n",
      "Iteration 134, loss = 0.02535449\n",
      "Iteration 135, loss = 0.02496119\n",
      "Iteration 136, loss = 0.02458013\n",
      "Iteration 137, loss = 0.02420693\n",
      "Iteration 138, loss = 0.02384408\n",
      "Iteration 139, loss = 0.02348973\n",
      "Iteration 140, loss = 0.02314388\n",
      "Iteration 141, loss = 0.02280697\n",
      "Iteration 142, loss = 0.02247723\n",
      "Iteration 143, loss = 0.02215633\n",
      "Iteration 144, loss = 0.02184195\n",
      "Iteration 145, loss = 0.02153573\n",
      "Iteration 146, loss = 0.02123597\n",
      "Iteration 147, loss = 0.02094338\n",
      "Iteration 148, loss = 0.02065739\n",
      "Iteration 149, loss = 0.02037760\n",
      "Iteration 150, loss = 0.02010440\n",
      "Iteration 151, loss = 0.01983678\n",
      "Iteration 152, loss = 0.01957542\n",
      "Iteration 153, loss = 0.01931943\n",
      "Iteration 154, loss = 0.01906907\n",
      "Iteration 155, loss = 0.01882406\n",
      "Iteration 156, loss = 0.01858410\n",
      "Iteration 157, loss = 0.01834937\n",
      "Iteration 158, loss = 0.01811930\n",
      "Iteration 159, loss = 0.01789413\n",
      "Iteration 160, loss = 0.01767348\n",
      "Iteration 161, loss = 0.01745730\n",
      "Iteration 162, loss = 0.01724555\n",
      "Iteration 163, loss = 0.01703791\n",
      "Iteration 164, loss = 0.01683449\n",
      "Iteration 165, loss = 0.01663499\n",
      "Iteration 166, loss = 0.01643941\n",
      "Iteration 167, loss = 0.01624763\n",
      "Iteration 168, loss = 0.01605948\n",
      "Iteration 169, loss = 0.01587498\n",
      "Iteration 170, loss = 0.01569392\n",
      "Iteration 171, loss = 0.01551627\n",
      "Iteration 172, loss = 0.01534195\n",
      "Iteration 173, loss = 0.01517083\n",
      "Iteration 174, loss = 0.01500288\n",
      "Iteration 175, loss = 0.01483798\n",
      "Iteration 176, loss = 0.01467606\n",
      "Iteration 177, loss = 0.01451707\n",
      "Iteration 178, loss = 0.01436089\n",
      "Iteration 179, loss = 0.01420751\n",
      "Iteration 180, loss = 0.01405682\n",
      "Iteration 181, loss = 0.01390876\n",
      "Iteration 182, loss = 0.01376328\n",
      "Iteration 183, loss = 0.01362031\n",
      "Iteration 184, loss = 0.01347979\n",
      "Iteration 185, loss = 0.01334166\n",
      "Iteration 186, loss = 0.01320587\n",
      "Iteration 187, loss = 0.01307237\n",
      "Iteration 188, loss = 0.01294109\n",
      "Iteration 189, loss = 0.01281199\n",
      "Iteration 190, loss = 0.01268502\n",
      "Iteration 191, loss = 0.01256013\n",
      "Iteration 192, loss = 0.01243727\n",
      "Iteration 193, loss = 0.01231641\n",
      "Iteration 194, loss = 0.01219748\n",
      "Iteration 195, loss = 0.01208046\n",
      "Iteration 196, loss = 0.01196530\n",
      "Iteration 197, loss = 0.01185195\n",
      "Iteration 198, loss = 0.01174038\n",
      "Iteration 199, loss = 0.01163056\n",
      "Iteration 200, loss = 0.01152244\n",
      "Absolute training score: 1.0\n",
      "predictions: [0 0 0 1 1 0 0 1 0 0 1 1 1 1 1]\n"
     ]
    },
    {
     "name": "stderr",
     "output_type": "stream",
     "text": [
      "C:\\Users\\Julia\\Miniconda3\\lib\\site-packages\\sklearn\\neural_network\\multilayer_perceptron.py:564: ConvergenceWarning: Stochastic Optimizer: Maximum iterations (200) reached and the optimization hasn't converged yet.\n",
      "  % self.max_iter, ConvergenceWarning)\n"
     ]
    }
   ],
   "source": [
    "# rotate the data 270 degrees\n",
    "d90 = np.rot90(d)\n",
    "d180 = np.rot90(d90)\n",
    "d270 = np.rot90(d180)\n",
    "\n",
    "print(d270)\n",
    " \n",
    "mlp = MLPClassifier(hidden_layer_sizes=(2,), verbose=True, activation='tanh', \n",
    "                    learning_rate_init = 0.08, random_state=1)\n",
    "#training the model\n",
    "mlp.fit(d270, t)\n",
    "\n",
    "print('Absolute training score:', mlp.score(d270, t))\n",
    "print('predictions:', mlp.predict(d270)) \n"
   ]
  },
  {
   "cell_type": "code",
   "execution_count": 7,
   "metadata": {},
   "outputs": [
    {
     "data": {
      "text/plain": [
       "<matplotlib.image.AxesImage at 0x1c4b0780320>"
      ]
     },
     "execution_count": 7,
     "metadata": {},
     "output_type": "execute_result"
    },
    {
     "data": {
      "image/png": "[encoded data removed]",
      "text/plain": [
       "<matplotlib.figure.Figure at 0x1c4b06aaba8>"
      ]
     },
     "metadata": {},
     "output_type": "display_data"
    }
   ],
   "source": [
    "PITCH = 0.1\n",
    "#RESOLUTION = int(1/PITCH)\n",
    "x = np.arange(0, 10, PITCH)\n",
    "y = np.arange(0, 10, PITCH)\n",
    "crds = np.meshgrid(x, y, sparse=False, indexing='ij')\n",
    "flatX = np.ravel(crds[0])\n",
    "flatY = np.ravel(crds[1])\n",
    "test = np.column_stack((flatX,flatY))\n",
    "plt.imshow(mlp.predict(test).reshape((100,100)), origin = 'lower')"
   ]
  }
 ],
 "metadata": {
  "kernelspec": {
   "display_name": "Python 3",
   "language": "python",
   "name": "python3"
  },
  "language_info": {
   "codemirror_mode": {
    "name": "ipython",
    "version": 3
   },
   "file_extension": ".py",
   "mimetype": "text/x-python",
   "name": "python",
   "nbconvert_exporter": "python",
   "pygments_lexer": "ipython3",
   "version": "3.6.1"
  }
 },
 "nbformat": 4,
 "nbformat_minor": 2
}
