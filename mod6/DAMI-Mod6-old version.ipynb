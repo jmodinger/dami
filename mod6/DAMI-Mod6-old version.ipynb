{
 "cells": [
  {
   "cell_type": "markdown",
   "metadata": {},
   "source": [
    "# Regression and Model Selection\n",
    "\n",
    "In this notebook I will demonstrate my understanding of overfitting and underfitting using regression as an example. First I will generate a 1-dimensional feature space and an array of values for each row in the feature space. Then I will create regresion estimators based on linear regression (`x**1`) and polynomial regression (2nd, 4th and 6th degree, i.e. `x**2`, `x**4`  and `x**6`). I will show that the higher the polynomial, the better the fit for the train set, but the worse the fit for the test set. I will visually support my case.\n",
    "\n",
    "I will re-use code from the [Python Data Science Handbook](http://bit.ly/2y3xzKw). To proof my understanding of the code I am re-using, I will comment on the code in my own words, both in MarkDown cells and in frequent code comment."
   ]
  },
  {
   "cell_type": "markdown",
   "metadata": {},
   "source": [
    "## 1. create test data\n",
    "\n",
    "[your comment goes here]"
   ]
  },
  {
   "cell_type": "code",
   "execution_count": 171,
   "metadata": {},
   "outputs": [
    {
     "data": {
      "text/plain": [
       "<matplotlib.collections.PathCollection at 0x19514bc1be0>"
      ]
     },
     "execution_count": 171,
     "metadata": {},
     "output_type": "execute_result"
    },
    {
     "data": {
      "image/png": "[encoded data removed]",
      "text/plain": [
       "<matplotlib.figure.Figure at 0x19514cfe240>"
      ]
     },
     "metadata": {},
     "output_type": "display_data"
    }
   ],
   "source": [
    "# your code goes here\n",
    "\n",
    "%matplotlib inline\n",
    "import numpy as np\n",
    "import matplotlib.pyplot as plt\n",
    "\n",
    "#Data must not be classifiable, it has to be a numerical value\n",
    "\n",
    "#Creates Random data (like in book) \n",
    "#What does rseed describe? It is not the range\n",
    "def make_data(N, err=1.0, rseed=1): \n",
    "    # randomly sample the data\n",
    "    rng = np.random.RandomState(rseed)\n",
    "    X = rng.rand(N, 1) ** 2\n",
    "    y = 10 - 1. / (X.ravel() + 0.1)\n",
    "    if err > 0:\n",
    "        y += err * rng.randn(N)\n",
    "    return X, y\n",
    "\n",
    "#Create a set of 40 numerical values with the method above\n",
    "X, y = make_data(40)\n",
    "plt.scatter(X, y)#visualizes data points"
   ]
  },
  {
   "cell_type": "markdown",
   "metadata": {},
   "source": [
    "## 2. create the regression pipeline\n",
    "\n",
    "[your comment goes here]"
   ]
  },
  {
   "cell_type": "code",
   "execution_count": 172,
   "metadata": {},
   "outputs": [
    {
     "ename": "NameError",
     "evalue": "name 'polymodel' is not defined",
     "output_type": "error",
     "traceback": [
      "\u001b[1;31m---------------------------------------------------------------------------\u001b[0m",
      "\u001b[1;31mNameError\u001b[0m                                 Traceback (most recent call last)",
      "\u001b[1;32m<ipython-input-172-fdb606e04559>\u001b[0m in \u001b[0;36m<module>\u001b[1;34m()\u001b[0m\n\u001b[0;32m     33\u001b[0m                          LinearRegression(**kwargs))\n\u001b[0;32m     34\u001b[0m \u001b[1;33m\u001b[0m\u001b[0m\n\u001b[1;32m---> 35\u001b[1;33m \u001b[0mpolymodel\u001b[0m\u001b[1;33m\u001b[0m\u001b[0m\n\u001b[0m\u001b[0;32m     36\u001b[0m \u001b[1;33m\u001b[0m\u001b[0m\n\u001b[0;32m     37\u001b[0m \u001b[1;31m#Plot the graphs\u001b[0m\u001b[1;33m\u001b[0m\u001b[1;33m\u001b[0m\u001b[0m\n",
      "\u001b[1;31mNameError\u001b[0m: name 'polymodel' is not defined"
     ]
    }
   ],
   "source": [
    "# your code goes here\n",
    "from sklearn.preprocessing import PolynomialFeatures\n",
    "from sklearn.linear_model import LinearRegression\n",
    "from sklearn.pipeline import make_pipeline\n",
    "\n",
    "#degree-1: y=ax+b\n",
    "poly_model = make_pipeline(PolynomialFeatures(1),LinearRegression(1)) #creates pipeline\n",
    "poly_model.fit(X, y)#fits the model\n",
    "y_fit1 = poly_model.predict(X_test)#tests the model\n",
    "\n",
    "#degree-2: y=ax²+bx+c\n",
    "poly_model = make_pipeline(PolynomialFeatures(2),LinearRegression(2))\n",
    "poly_model.fit(X, y)\n",
    "y_fit2 = poly_model.predict(X_test)\n",
    "\n",
    "#degree-4: y=ax^4+bx^3+cx^2+dx+e\n",
    "poly_model = make_pipeline(PolynomialFeatures(4),LinearRegression())\n",
    "poly_model.fit(X, y)\n",
    "y_fit4 = poly_model.predict(X_test)\n",
    "\n",
    "#degree-6: y=ax^6+bx^5+cx^4+dx^3+ex^2+fx+g\n",
    "poly_model = make_pipeline(PolynomialFeatures(6),LinearRegression())\n",
    "poly_model.fit(X, y)\n",
    "y_fit6 = poly_model.predict(X_test)\n",
    "\n",
    "#degree-20\n",
    "poly_model = make_pipeline(PolynomialFeatures(20),LinearRegression())\n",
    "poly_model.fit(X, y)\n",
    "y_fit20 = poly_model.predict(X_test)\n",
    "\n",
    "def PolynomialRegression(degree=2, **kwargs):\n",
    "    return make_pipeline(PolynomialFeatures(degree),\n",
    "                         LinearRegression(**kwargs))\n",
    "\n",
    "polymodel\n",
    "\n",
    "#Plot the graphs\n",
    "axis = plt.axis()\n",
    "plt.plot(X_test, y_fit1, label = 'degree 1') \n",
    "plt.plot(X_test, y_fit2, label = 'degree 2')\n",
    "plt.plot(X_test, y_fit4, label = 'degree 4')\n",
    "plt.plot(X_test, y_fit6, label = 'degree 6')\n",
    "plt.xlim(-0.1, 1.0)\n",
    "plt.ylim(-2, 12)\n",
    "plt.legend(loc='best');"
   ]
  },
  {
   "cell_type": "markdown",
   "metadata": {},
   "source": [
    "## 3. show the regressors\n",
    "\n",
    "[your comment goes here]"
   ]
  },
  {
   "cell_type": "code",
   "execution_count": null,
   "metadata": {},
   "outputs": [],
   "source": [
    "# your code goes here\n",
    "\n",
    "# visualize test data \n",
    "plt.scatter(X.ravel(), y, color = 'black')# shows data points\n",
    "axis = plt.axis()\n",
    "plt.plot(X_test.ravel(), y_fit1, label = 'degree 1') \n",
    "plt.plot(X_test.ravel(), y_fit2, label = 'degree 2')\n",
    "plt.plot(X_test.ravel(), y_fit4, label = 'degree 4')\n",
    "plt.plot(X_test.ravel(), y_fit6, label = 'degree 6')\n",
    "plt.plot(X_test.ravel(), y_fit20, label = 'degree 20')\n",
    "plt.xlim(-0.1, 1.0)\n",
    "plt.ylim(-2, 12)\n",
    "plt.legend(loc='best');\n",
    "\n",
    "#Degree 1 is an extreme example of underfitting and degree 20 of overfitting"
   ]
  },
  {
   "cell_type": "markdown",
   "metadata": {},
   "source": [
    "## 4. show the validation curve\n",
    "\n",
    "[your comment goes here]"
   ]
  },
  {
   "cell_type": "code",
   "execution_count": null,
   "metadata": {},
   "outputs": [],
   "source": [
    "# your code goes here\n",
    "from sklearn.learning_curve import validation_curve\n",
    "\n",
    "#Example from the book, needs to be fitted to my data\n",
    "\n",
    "degree = np.arange(0, 21)\n",
    "train_score, val_score = validation_curve(PolynomialRegression(), X, y, 'polynomialfeatures__degree', degree, cv=7)\n",
    "plt.plot(degree, np.median(train_score, 1), color='blue', label='training score')\n",
    "plt.plot(degree, np.median(val_score, 1), color='red', label='validation score')\n",
    "plt.legend(loc='best')\n",
    "plt.ylim(0, 1)\n",
    "plt.xlabel('degree')\n",
    "plt.ylabel('score');"
   ]
  },
  {
   "cell_type": "markdown",
   "metadata": {},
   "source": [
    "## 5. conduct grid search to find the optimal regressor\n",
    "\n",
    "[your comment goes here]"
   ]
  },
  {
   "cell_type": "code",
   "execution_count": null,
   "metadata": {
    "collapsed": true
   },
   "outputs": [],
   "source": [
    "# your code goes here\n",
    "plt.scatter(X.ravel(), y)\n",
    "lim = plt.axis()\n",
    "y_test = PolynomialRegression(3).fit(X, y).predict(X_test)\n",
    "plt.plot(X_test.ravel(), y_test);\n",
    "plt.axis(lim);"
   ]
  }
 ],
 "metadata": {
  "kernelspec": {
   "display_name": "Python 3",
   "language": "python",
   "name": "python3"
  },
  "language_info": {
   "codemirror_mode": {
    "name": "ipython",
    "version": 3
   },
   "file_extension": ".py",
   "mimetype": "text/x-python",
   "name": "python",
   "nbconvert_exporter": "python",
   "pygments_lexer": "ipython3",
   "version": "3.6.1"
  }
 },
 "nbformat": 4,
 "nbformat_minor": 2
}
